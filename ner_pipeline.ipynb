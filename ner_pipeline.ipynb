{
 "cells": [
  {
   "cell_type": "code",
   "execution_count": 4,
   "metadata": {},
   "outputs": [],
   "source": [
    "from haystack import Pipeline\n",
    "from haystack.components.fetchers import LinkContentFetcher\n",
    "from haystack.components.extractors import NamedEntityExtractor\n",
    "from ingestion.converter import EIDCJSONToDocument\n",
    "\n",
    "fetcher = LinkContentFetcher()\n",
    "converter = EIDCJSONToDocument()\n",
    "extractor = NamedEntityExtractor(backend=\"spacy\", model=\"en_core_web_md\")\n",
    "\n",
    "pipe = Pipeline()\n",
    "pipe.add_component(instance=fetcher, name=\"fetcher\")\n",
    "pipe.add_component(instance=converter, name=\"converter\")\n",
    "pipe.add_component(instance=extractor, name=\"extractor\")\n",
    "\n",
    "pipe.connect(\"fetcher.streams\", \"converter.sources\")\n",
    "pipe.connect(\"converter.documents\", \"extractor.documents\")\n",
    "\n",
    "result = pipe.run(\n",
    "    data={\n",
    "        \"fetcher\": {\n",
    "            \"urls\": [\n",
    "                \"https://catalogue.ceh.ac.uk/eidc/documents?page=1&rows=2000&term=state%3Apublished+AND+view%3Apublic+AND+recordType%3ADataset\"\n",
    "            ]\n",
    "        },\n",
    "        \"converter\": {\"metadata_fields\": [\"description\"]},\n",
    "    }\n",
    ")\n"
   ]
  },
  {
   "cell_type": "code",
   "execution_count": 20,
   "metadata": {},
   "outputs": [
    {
     "data": {
      "text/plain": [
       "742"
      ]
     },
     "execution_count": 20,
     "metadata": {},
     "output_type": "execute_result"
    }
   ],
   "source": [
    "def extract_entities(doc, type):\n",
    "    ners = doc.meta[\"named_entities\"]\n",
    "    typed_ners = [ent for ent in ners if ent.entity == type]\n",
    "    typed_ners_text = [doc.content[ent.start:ent.end] for ent in typed_ners]\n",
    "    return set(typed_ners_text)\n",
    "\n",
    "gpe_entities = [extract_entities(doc, \"GPE\") for doc in result[\"extractor\"][\"documents\"]]\n",
    "all_places = []\n",
    "for places in gpe_entities:\n",
    "    all_places.extend(places)\n",
    "len(set(all_places))"
   ]
  }
 ],
 "metadata": {
  "kernelspec": {
   "display_name": ".venv",
   "language": "python",
   "name": "python3"
  },
  "language_info": {
   "codemirror_mode": {
    "name": "ipython",
    "version": 3
   },
   "file_extension": ".py",
   "mimetype": "text/x-python",
   "name": "python",
   "nbconvert_exporter": "python",
   "pygments_lexer": "ipython3",
   "version": "3.12.3"
  }
 },
 "nbformat": 4,
 "nbformat_minor": 2
}
