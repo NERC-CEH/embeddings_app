{
 "cells": [
  {
   "cell_type": "code",
   "execution_count": 1,
   "metadata": {},
   "outputs": [
    {
     "name": "stderr",
     "output_type": "stream",
     "text": [
      "/home/mpc/github/embeddings_app/.venv/lib/python3.12/site-packages/tqdm/auto.py:21: TqdmWarning: IProgress not found. Please update jupyter and ipywidgets. See https://ipywidgets.readthedocs.io/en/stable/user_install.html\n",
      "  from .autonotebook import tqdm as notebook_tqdm\n"
     ]
    },
    {
     "name": "stdout",
     "output_type": "stream",
     "text": [
      "Creating prompt template...\n",
      "Setting up model (google/flan-t5-large)...\n",
      "Warming up model...\n"
     ]
    },
    {
     "data": {
      "text/plain": [
       "<haystack.core.pipeline.pipeline.Pipeline object at 0x795443edf3b0>\n",
       "🚅 Components\n",
       "  - retriever: ChromaQueryTextRetriever\n",
       "  - prompt_builder: PromptBuilder\n",
       "  - llm: HuggingFaceLocalGenerator\n",
       "  - answer_builder: AnswerBuilder\n",
       "🛤️ Connections\n",
       "  - retriever.documents -> prompt_builder.documents (List[Document])\n",
       "  - retriever.documents -> answer_builder.documents (List[Document])\n",
       "  - prompt_builder.prompt -> llm.prompt (str)\n",
       "  - llm.replies -> answer_builder.replies (List[str])"
      ]
     },
     "execution_count": 1,
     "metadata": {},
     "output_type": "execute_result"
    }
   ],
   "source": [
    "from haystack_integrations.document_stores.chroma import ChromaDocumentStore\n",
    "from haystack_integrations.components.retrievers.chroma import ChromaQueryTextRetriever\n",
    "from haystack.components.builders import PromptBuilder\n",
    "from haystack import Pipeline\n",
    "from haystack.components.generators import HuggingFaceLocalGenerator\n",
    "from haystack.components.builders.answer_builder import AnswerBuilder\n",
    "\n",
    "document_store = ChromaDocumentStore(\n",
    "    collection_name=\"eidc_datasets\", persist_path=\"chroma-data\"\n",
    ")\n",
    "retriever = ChromaQueryTextRetriever(document_store, top_k=3)\n",
    "print(\"Creating prompt template...\")\n",
    "\n",
    "template = \"\"\"\n",
    "Given the following information, answer the question.\n",
    "\n",
    "Question: {{query}}\n",
    "\n",
    "Context:\n",
    "{% for document in documents %}\n",
    "    {{ document.content }}\n",
    "{% endfor %}\n",
    "\n",
    "Answer:\n",
    "\"\"\"\n",
    "\n",
    "prompt_builder = PromptBuilder(template=template)\n",
    "\n",
    "models = [\n",
    "    \"openai-community/gpt2\",\n",
    "    \"google/flan-t5-large\",\n",
    "    \"MBZUAI/LaMini-Flan-T5-783M\",\n",
    "    \"google/long-t5-tglobal-base\",\n",
    "]\n",
    "model_name = models[1]\n",
    "print(f\"Setting up model ({model_name})...\")\n",
    "llm = HuggingFaceLocalGenerator(\n",
    "    model=model_name,\n",
    "    task=\"text2text-generation\",\n",
    "    generation_kwargs={\"max_new_tokens\": 100, \"temperature\": 0.9},\n",
    ")\n",
    "print(\"Warming up model...\")\n",
    "llm.warm_up()\n",
    "\n",
    "answer_builder = AnswerBuilder()\n",
    "\n",
    "rag_pipe = Pipeline()\n",
    "\n",
    "rag_pipe.add_component(\"retriever\", retriever)\n",
    "rag_pipe.add_component(\"prompt_builder\", prompt_builder)\n",
    "rag_pipe.add_component(\"llm\", llm)\n",
    "rag_pipe.add_component('answer_builder', answer_builder)\n",
    "\n",
    "rag_pipe.connect(\"retriever.documents\", \"prompt_builder.documents\")\n",
    "rag_pipe.connect(\"retriever.documents\", \"answer_builder.documents\")\n",
    "\n",
    "rag_pipe.connect(\"prompt_builder\", \"llm\")\n",
    "\n",
    "rag_pipe.connect('llm.replies', 'answer_builder.replies')\n"
   ]
  },
  {
   "cell_type": "code",
   "execution_count": 4,
   "metadata": {},
   "outputs": [],
   "source": [
    "with open('test.yml', 'w') as f:\n",
    "    rag_pipe.dump(f)"
   ]
  },
  {
   "cell_type": "code",
   "execution_count": 3,
   "metadata": {},
   "outputs": [
    {
     "name": "stderr",
     "output_type": "stream",
     "text": [
      "Token indices sequence length is longer than the specified maximum sequence length for this model (1482 > 512). Running this sequence through the model will result in indexing errors\n",
      "/home/mpc/github/embeddings_app/.venv/lib/python3.12/site-packages/transformers/generation/configuration_utils.py:515: UserWarning: `do_sample` is set to `False`. However, `temperature` is set to `0.9` -- this flag is only used in sample-based generation modes. You should set `do_sample=True` or unset `temperature`.\n",
      "  warnings.warn(\n"
     ]
    },
    {
     "data": {
      "text/plain": [
       "{'answer_builder': {'answers': [GeneratedAnswer(data='the Institute of Terrestrial Ecology', query='Who collected the land cover map data?', documents=[Document(id=doc_1833, content: 'Land Cover Map 1990 (1km percentage target class, GB)\n",
       "   The Land Cover Map of Great Britain 1990 (1km ...', meta: {'description': \"The Land Cover Map of Great Britain 1990 (1km percentage target class, GB), is a raster digital dataset, providing a classification of land cover types into 25 classes, at a 1km resolution. The dataset consists of a set of 1km bands, each containing one of 25 target classes (or 'sub' classes). Each band of the dataset contains the percentage of the specified habitat class per 1km, derived from a higher resolution (25m) dataset. The map was produced using supervised maximum likelihood classifications of Landsat 5 Thematic Mapper satellite data. The 25 mapped classes include sea and inland waters, bare, suburban and urban areas, arable farmland, pastures and meadows, rough grass, grass heaths and moors, bracken, dwarf shrub heaths and moorland, scrub, deciduous and evergreen woodland, and upland and lowland bogs. It can potentially be used to plan, manage or monitor agriculture, ecology, conservation, forestry, environmental assessment, water supplies, urban spread, transport, telecommunications, recreation and mineral extraction. The map was produced in the early 1990s by a forerunner of the Centre for Ecology & Hydrology, the Institute of Terrestrial Ecology, at Monks Wood. Note: The bands in the dataset run from 1-26, not 0-25 as stated in the documentation. Hence '1' is unclassifed (not '0'), '2' is sea/estuary and so on.\", 'lineage': 'The Land Cover Map of Great Britain (LCMGB) was produced (at the Institute of Terrestrial Ecology (ITE) Monks Wood) using supervised maximum likelihood classifications of Landsat Thematic Mapper satellite data. See online supporting information for further details.', 'title': 'Land Cover Map 1990 (1km percentage target class, GB)', 'topic_keywords': \"['classification land', 'classified land', 'land cover', 'land surface', 'uk biodiversity', 'ukceh land', 'pixel classification', 'land', 'land parcel', 'random forest']\", 'topic_number': 6, 'umap_reduced': '[8.036508 , 1.1719614]'}, score: 0.8308653815578699, embedding: vector of size 384), Document(id=doc_0017, content: 'Land Cover Map 2017 (land parcels, N. Ireland)\n",
       "   This is the land parcels (polygon) dataset for the UK...', meta: {'description': \"This is the land parcels (polygon) dataset for the UKCEH Land Cover Map of 2017 (LCM2017) representing Northern Ireland. It describes Northern Ireland's land cover in 2017 using UKCEH Land Cover Classes, which are based on UK Biodiversity Action Plan broad habitats.  This dataset was derived from the corresponding LCM2017 20m classified pixels dataset.  All further LCM2017 datasets for Northern Ireland are derived from this land parcel product.  A range of land parcel attributes are provided.  These include the dominant UKCEH Land Cover Class given as an integer value, and a range of per-parcel pixel statistics to help to assess classification confidence and accuracy; for a full explanation please refer to the dataset documentation.\\n\\nLCM2017 represents a suite of geospatial land cover datasets (raster and polygon) describing the UK land surface in 2017.  These were produced at the UK Centre for Ecology & Hydrology by classifying satellite images from 2017. LCM2017 was simultaneously released with LCM2018 and LCM2019.  These are the latest in a series of UKCEH land cover maps, which began with the 1990 Land Cover Map of Great Britain (now usually referred to as LCM1990) followed by UK-wide land cover maps LCM2000, LCM2007 and LCM2015.\\n\\nThis work was supported by the Natural Environment Research Council award number NE/R016429/1 as part of the UK-SCAPE programme delivering National Capability.\", 'lineage': 'The Land Parcels datasets of the LCM2017, LCM2018 and LCM2019 product range were derived from the corresponding 20m Classified Pixels datasets. They give per-parcel land cover information in 21 classes based on UK Biodiversity Action Plan broad habitats. A UK spatial framework of land parcels (vector-polygons) representing real-world objects (for example: fields, lakes, urban areas and so forth) was intersected with the 20m Classified Pixels to generate per-parcel pixel statistics. These include a histogram recording pixel frequency per land cover class, the modal land cover class, the total number of pixels and three attribute indicators of classification confidence. Land parcel classification results were validated against independently collected ground observations. All calculations were performed within a PosGIS database. Results were extracted from PostGIS using the QGIS export facility to give the final product as a SpatiaLite vector geodatabase. SpatiaLite is an open standard file format for geospatial vector databases and SpatiaLite files can be read by most GIS software.', 'title': 'Land Cover Map 2017 (land parcels, N. Ireland)', 'topic_keywords': \"['classification land', 'classified land', 'land cover', 'land surface', 'uk biodiversity', 'ukceh land', 'pixel classification', 'land', 'land parcel', 'random forest']\", 'topic_number': 6, 'umap_reduced': '[7.7424498, 2.1653466]'}, score: 0.8552275896072388, embedding: vector of size 384), Document(id=doc_0021, content: 'Land Cover Map 2020 (land parcels, N. Ireland)\n",
       "   This is the land parcel (polygon) dataset for the UKC...', meta: {'description': \"This is the land parcel (polygon) dataset for the UKCEH Land Cover Map of 2020 (LCM2020) representing Northern Ireland. It describes Northern Ireland's land cover in 2020 using UKCEH Land Cover Classes, which are based on UK Biodiversity Action Plan broad habitats.   A range of land parcel attributes are provided. These include the dominant UKCEH Land Cover Class given as an integer value and a range of per-parcel pixel statistics to help assess classification confidence and accuracy; for a full explanation please refer to the dataset documentation accompanying this dataset.\\n\\nLCM2020 represents a suite of geospatial land cover datasets (raster and polygon) describing the UK land surface in 2020. These were produced at the UK Centre for Ecology & Hydrology by classifying satellite images from 2020.   These are one of a series of UKCEH land cover maps, which began with the 1990 Land Cover Map of Great Britain (now usually referred to as LCM1990) followed by UK-wide land cover maps in 2000, 2007, 2015 and annually since 2017.\\n\\nThis work was supported by the Natural Environment Research Council award number NE/R016429/1 as part of the UK-SCAPE programme delivering National Capability. \", 'lineage': 'UKCEH’s automated land cover algorithms generated 10m classified pixels from Sentinel-2 satellite data. Training data were automatically selected from stable land covers over the interval of 2017 to 2019. A Random Forest classifier used these to classify four composite images representing per season median surface reflectance. Seasonal images were integrated with context layers (e.g., height, aspect, slope, coastal proximity, urban proximity and so forth) to reduce confusion among classes with similar spectra.\\n\\nLand cover was validated by organising the pixel classification into a land parcel spatial framework (the LCM2020 Classified Land Parcels product). The classified land parcels were compared to known land cover producing confusion matrix to determine overall and per class accuracy. Details are available from the product documentation.\\n\\nThis product represents the LCM2020 Classified Land Parcel, Northern Ireland.', 'title': 'Land Cover Map 2020 (land parcels, N. Ireland)', 'topic_keywords': \"['classification land', 'classified land', 'land cover', 'land surface', 'uk biodiversity', 'ukceh land', 'pixel classification', 'land', 'land parcel', 'random forest']\", 'topic_number': 6, 'umap_reduced': '[7.720665 , 2.1454782]'}, score: 0.8557359576225281, embedding: vector of size 384)], meta={})]}}"
      ]
     },
     "execution_count": 3,
     "metadata": {},
     "output_type": "execute_result"
    }
   ],
   "source": [
    "query = 'Who collected the land cover map data?'\n",
    "rag_pipe.run(\n",
    "    {\n",
    "        \"retriever\": {\"query\": query},\n",
    "        \"prompt_builder\": {\"query\": query},\n",
    "        \"answer_builder\": {\"query\": query}\n",
    "    }\n",
    ")"
   ]
  }
 ],
 "metadata": {
  "kernelspec": {
   "display_name": ".venv",
   "language": "python",
   "name": "python3"
  },
  "language_info": {
   "codemirror_mode": {
    "name": "ipython",
    "version": 3
   },
   "file_extension": ".py",
   "mimetype": "text/x-python",
   "name": "python",
   "nbconvert_exporter": "python",
   "pygments_lexer": "ipython3",
   "version": "3.12.3"
  }
 },
 "nbformat": 4,
 "nbformat_minor": 2
}
